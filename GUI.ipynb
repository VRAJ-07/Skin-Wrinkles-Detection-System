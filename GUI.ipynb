{
 "cells": [
  {
   "cell_type": "code",
   "execution_count": 2,
   "id": "50ef9cc6",
   "metadata": {},
   "outputs": [],
   "source": [
    "import tkinter as tk\n",
    "from tkinter import filedialog\n",
    "from PIL import Image, ImageTk\n",
    "import tensorflow as tf\n",
    "import numpy as np\n",
    "\n",
    "# Load the trained model\n",
    "model = tf.keras.models.load_model('wrinkles_model.h5')\n",
    "\n",
    "# Function to classify an image\n",
    "def classify_image():\n",
    "    file_path = filedialog.askopenfilename()\n",
    "    if file_path:\n",
    "        try:\n",
    "            img = Image.open(file_path)\n",
    "            img = img.resize((64, 64))  # Resize image to match model input size\n",
    "            img = np.array(img) / 255.0  # Normalize pixel values\n",
    "            img = np.expand_dims(img, axis=0)  # Add batch dimension\n",
    "\n",
    "            result = model.predict(img)\n",
    "            if result[0][0] > 0.5:\n",
    "                result_label.config(text=\"Wrinkles\")\n",
    "            else:\n",
    "                result_label.config(text=\"No Wrinkles\")\n",
    "\n",
    "            # Display the selected image\n",
    "            img = Image.open(file_path)\n",
    "            img = img.resize((300, 300))\n",
    "            img = ImageTk.PhotoImage(img)\n",
    "            image_label.config(image=img)\n",
    "            image_label.image = img\n",
    "        except Exception as e:\n",
    "            result_label.config(text=\"Error: Invalid Image\")\n",
    "\n",
    "# Create the main window\n",
    "window = tk.Tk()\n",
    "window.title(\"Wrinkle Classifier\")\n",
    "\n",
    "# Create widgets\n",
    "classify_button = tk.Button(window, text=\"Classify Image\", command=classify_image)\n",
    "classify_button.pack(pady=10)\n",
    "\n",
    "result_label = tk.Label(window, text=\"\")\n",
    "result_label.pack(pady=10)\n",
    "\n",
    "image_label = tk.Label(window)\n",
    "image_label.pack(pady=10)\n",
    "\n",
    "# Run the main loop\n",
    "window.mainloop()\n"
   ]
  },
  {
   "cell_type": "code",
   "execution_count": null,
   "id": "bab7aa66",
   "metadata": {},
   "outputs": [],
   "source": []
  }
 ],
 "metadata": {
  "kernelspec": {
   "display_name": "Python 3 (ipykernel)",
   "language": "python",
   "name": "python3"
  },
  "language_info": {
   "codemirror_mode": {
    "name": "ipython",
    "version": 3
   },
   "file_extension": ".py",
   "mimetype": "text/x-python",
   "name": "python",
   "nbconvert_exporter": "python",
   "pygments_lexer": "ipython3",
   "version": "3.9.13"
  }
 },
 "nbformat": 4,
 "nbformat_minor": 5
}
